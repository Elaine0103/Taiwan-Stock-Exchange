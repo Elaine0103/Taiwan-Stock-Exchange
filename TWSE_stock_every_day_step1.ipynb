{
 "cells": [
  {
   "cell_type": "code",
   "execution_count": null,
   "id": "12076cbf",
   "metadata": {},
   "outputs": [],
   "source": [
    "import pandas as pd\n",
    "from pandas.io.json import json_normalize\n",
    "import requests\n",
    "import json\n",
    "from urllib3.exceptions import InsecureRequestWarning\n",
    "from urllib3 import disable_warnings\n",
    "from fake_useragent import UserAgent\n",
    "import time\n",
    "import csv"
   ]
  },
  {
   "cell_type": "code",
   "execution_count": null,
   "id": "a36a304b",
   "metadata": {
    "scrolled": true
   },
   "outputs": [],
   "source": [
    "stock_company = pd.read_csv(\"/Users/elaine/Desktop/side_project/stock_price/company.csv\",usecols=[\"main_stock_symbol\",\"sub_stock_symbol\",\"Company_E\"],encoding='utf-8')"
   ]
  },
  {
   "cell_type": "code",
   "execution_count": null,
   "id": "d03953c1",
   "metadata": {},
   "outputs": [],
   "source": [
    "sub_stock_symbol = stock_company[\"sub_stock_symbol\"].to_list()\n",
    "sub_stock_symbol"
   ]
  },
  {
   "cell_type": "code",
   "execution_count": null,
   "id": "91190b84",
   "metadata": {},
   "outputs": [],
   "source": [
    "#all\n",
    "#date_year = [\"2012\",\"2013\",\"2014\",\"2015\",\"2016\",\"2017\",\"2018\",\"2019\",\"2020\",\"2021\",\"2022\"]\n",
    "date_year = [\"2017\",\"2018\",\"2019\"]\n",
    "date_month = [\"0101\",\"0201\",\"0301\",\"0401\",\"0501\",\"0601\",\"0701\",\"0801\",\"0901\",\"1001\",\"1101\",\"1201\"]\n",
    "\n",
    "stock_data_list = []\n",
    "error_data_list = []\n",
    "\n",
    "for stock_num in sub_stock_symbol:\n",
    "    #print(stock_num)\n",
    "    for year in date_year:\n",
    "        #print(year)   \n",
    "        for month in date_month:\n",
    "            url = (f\"https://www.twse.com.tw/rwd/zh/afterTrading/STOCK_DAY?date={year}{month}&stockNo={stock_num}&response=json&_=1679296642947\")    \n",
    "            ua = UserAgent()\n",
    "            user_agent = ua.random\n",
    "            headers = {'user-agent': user_agent}\n",
    "            data = requests.get(url, headers=headers).text\n",
    "            if data and \"\\\"total\\\":0\" in data:\n",
    "                error = [str(year), str(month),str(stock_num),data]\n",
    "                error_data_list.append(error)         \n",
    "            else:\n",
    "                stock_data_list.append(data)\n",
    "        time.sleep(40)"
   ]
  },
  {
   "cell_type": "code",
   "execution_count": null,
   "id": "7ead8dba",
   "metadata": {},
   "outputs": [],
   "source": []
  },
  {
   "cell_type": "code",
   "execution_count": null,
   "id": "b1c7c0f2",
   "metadata": {},
   "outputs": [],
   "source": [
    "#save stock_data_list json file\n",
    "with open(\"/Users/elaine/Desktop/side_project/stock_price/stock_price_2017_2019.json\", \"w\") as outfile: \n",
    "    json.dump(stock_data_list, outfile)"
   ]
  },
  {
   "cell_type": "code",
   "execution_count": null,
   "id": "7704a509",
   "metadata": {},
   "outputs": [],
   "source": [
    "#save error_data_list csv file\n",
    "with open('/Users/elaine/Desktop/side_project/stock_price/error_data_list_2017_2019.csv', 'w', newline='') as csvfile: \n",
    "    writer = csv.writer(csvfile)\n",
    "    writer.writerow([\"year\",\"month\",\"stock_number\",\"raw_data\"])\n",
    "    writer.writerows(error_data_list)"
   ]
  },
  {
   "cell_type": "code",
   "execution_count": null,
   "id": "74ef3b65",
   "metadata": {},
   "outputs": [],
   "source": []
  },
  {
   "cell_type": "code",
   "execution_count": null,
   "id": "d945e008",
   "metadata": {},
   "outputs": [],
   "source": [
    "#csv to dataframe(error data)\n",
    "error = pd.read_csv(\"/Users/elaine/Desktop/side_project/stock_price/error_data_list_2017_2019.csv\", converters = {\"month\":str}) \n",
    "error"
   ]
  }
 ],
 "metadata": {
  "kernelspec": {
   "display_name": "Python 3",
   "language": "python",
   "name": "python3"
  },
  "language_info": {
   "codemirror_mode": {
    "name": "ipython",
    "version": 3
   },
   "file_extension": ".py",
   "mimetype": "text/x-python",
   "name": "python",
   "nbconvert_exporter": "python",
   "pygments_lexer": "ipython3",
   "version": "3.8.8"
  }
 },
 "nbformat": 4,
 "nbformat_minor": 5
}
