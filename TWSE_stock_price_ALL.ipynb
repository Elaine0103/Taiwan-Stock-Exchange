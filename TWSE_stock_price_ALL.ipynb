{
 "cells": [
  {
   "cell_type": "code",
   "execution_count": null,
   "id": "0371b521",
   "metadata": {},
   "outputs": [],
   "source": [
    "import pandas as pd\n",
    "from pandas.io.json import json_normalize\n",
    "import requests\n",
    "import json\n",
    "from urllib3.exceptions import InsecureRequestWarning\n",
    "from urllib3 import disable_warnings\n",
    "from fake_useragent import UserAgent\n",
    "import time\n",
    "import csv"
   ]
  },
  {
   "cell_type": "code",
   "execution_count": null,
   "id": "87114f7f",
   "metadata": {},
   "outputs": [],
   "source": [
    "# first step (TWSE_stock_every_day)"
   ]
  },
  {
   "cell_type": "code",
   "execution_count": null,
   "id": "74996332",
   "metadata": {},
   "outputs": [],
   "source": [
    "stock_company = pd.read_csv(\"/Users/elaine/Desktop/side_project/stock_price/company.csv\",usecols=[\"main_stock_symbol\",\"sub_stock_symbol\",\"Company_E\"],encoding='utf-8')"
   ]
  },
  {
   "cell_type": "code",
   "execution_count": null,
   "id": "ec1f1a13",
   "metadata": {},
   "outputs": [],
   "source": [
    "sub_stock_symbol = stock_company[\"sub_stock_symbol\"].to_list()\n",
    "sub_stock_symbol"
   ]
  },
  {
   "cell_type": "code",
   "execution_count": null,
   "id": "99635cfb",
   "metadata": {},
   "outputs": [],
   "source": [
    "#all\n",
    "date_year = [\"2012\",\"2013\",\"2014\",\"2015\",\"2016\",\"2017\",\"2018\",\"2019\",\"2020\",\"2021\",\"2022\"]\n",
    "date_month = [\"0101\",\"0201\",\"0301\",\"0401\",\"0501\",\"0601\",\"0701\",\"0801\",\"0901\",\"1001\",\"1101\",\"1201\"]\n",
    "\n",
    "stock_data_list = []\n",
    "error_data_list = []\n",
    "\n",
    "for stock_num in sub_stock_symbol:\n",
    "    #print(stock_num)\n",
    "    for year in date_year:\n",
    "        #print(year)   \n",
    "        for month in date_month:\n",
    "            url = (f\"https://www.twse.com.tw/rwd/zh/afterTrading/STOCK_DAY?date={year}{month}&stockNo={stock_num}&response=json&_=1679296642947\")    \n",
    "            ua = UserAgent()\n",
    "            user_agent = ua.random\n",
    "            headers = {'user-agent': user_agent}\n",
    "            data = requests.get(url, headers=headers).text\n",
    "            if data and \"\\\"total\\\":0\" in data:\n",
    "                error = [str(year), str(month),str(stock_num),data]\n",
    "                error_data_list.append(error)         \n",
    "            else:\n",
    "                stock_data_list.append(data)\n",
    "        time.sleep(40)\n",
    "print(stock_data_list)"
   ]
  },
  {
   "cell_type": "code",
   "execution_count": null,
   "id": "a28beba0",
   "metadata": {},
   "outputs": [],
   "source": [
    "#save stock_data_list json file\n",
    "with open(\"/Users/elaine/Desktop/side_project/stock_price/stock_price_2020_2021.json\", \"w\") as outfile: \n",
    "    json.dump(stock_data_list, outfile)"
   ]
  },
  {
   "cell_type": "code",
   "execution_count": null,
   "id": "aee8465a",
   "metadata": {},
   "outputs": [],
   "source": [
    "#save error_data_list csv file\n",
    "with open('/Users/elaine/Desktop/side_project/stock_price/error_data_list_2020_2021.csv', 'w', newline='') as csvfile: \n",
    "    writer = csv.writer(csvfile)\n",
    "    writer.writerow([\"year\",\"month\",\"stock_number\",\"raw_data\"])\n",
    "    writer.writerows(error_data_list)"
   ]
  },
  {
   "cell_type": "code",
   "execution_count": null,
   "id": "49c84637",
   "metadata": {},
   "outputs": [],
   "source": [
    "#csv to dataframe(error data)\n",
    "error = pd.read_csv(\"/Users/elaine/Desktop/side_project/stock_price/error_data_list_2017_2019.csv\", converters = {\"month\":str}) \n",
    "error"
   ]
  },
  {
   "cell_type": "code",
   "execution_count": null,
   "id": "b0b401b7",
   "metadata": {},
   "outputs": [],
   "source": []
  },
  {
   "cell_type": "code",
   "execution_count": null,
   "id": "e8bc126a",
   "metadata": {},
   "outputs": [],
   "source": [
    "#second step (if there's error data run cells) (TWSE_stock_every_day_(for_error_data).ipynb)"
   ]
  },
  {
   "cell_type": "code",
   "execution_count": null,
   "id": "5af25559",
   "metadata": {},
   "outputs": [],
   "source": [
    "stock_company = pd.read_csv(\"/Users/elaine/Desktop/side_project/stock_price/error_data_list_2017_2022_errorlis_1.csv\", converters = {\"month\":str},encoding='utf-8')\n",
    "stock_company"
   ]
  },
  {
   "cell_type": "code",
   "execution_count": null,
   "id": "8657e093",
   "metadata": {},
   "outputs": [],
   "source": [
    "year =stock_company[\"year\"].astype(str)\n",
    "year = year.to_list()\n",
    "Date = year + stock_company[\"month\"]\n",
    "Date = Date.to_list()\n",
    "stock_number = stock_company[\"stock_number\"].to_list()"
   ]
  },
  {
   "cell_type": "code",
   "execution_count": null,
   "id": "fed2a020",
   "metadata": {},
   "outputs": [],
   "source": [
    "data = []\n",
    "data.extend(list(D) for D in zip(Date,stock_number))"
   ]
  },
  {
   "cell_type": "code",
   "execution_count": null,
   "id": "96fba1f0",
   "metadata": {},
   "outputs": [],
   "source": [
    "stock_data_list = []\n",
    "error_data_list = []\n",
    "for i in data:\n",
    "    url = (f\"https://www.twse.com.tw/rwd/zh/afterTrading/STOCK_DAY?date={i[0]}&stockNo={i[1]}&response=json&_=1679296642947\")\n",
    "    #print(url)\n",
    "    ua = UserAgent()\n",
    "    user_agent = ua.random\n",
    "    headers = {'user-agent': user_agent}\n",
    "    data = requests.get(url, headers=headers).text\n",
    "    if data and \"\\\"total\\\":0\" in data:\n",
    "        error = [i[0][:4],i[0][4:8], i[1],data]\n",
    "        error_data_list.append(error)\n",
    "    else:\n",
    "        stock_data_list.append(data)\n",
    "               \n",
    "time.sleep(5)"
   ]
  },
  {
   "cell_type": "code",
   "execution_count": null,
   "id": "5fd0a22b",
   "metadata": {},
   "outputs": [],
   "source": [
    "#save error_data_list csv file\n",
    "with open('/Users/elaine/Desktop/side_project/stock_price/error_data_list_2017_2022_errorlis_2.csv', 'w', newline='') as csvfile: \n",
    "    writer = csv.writer(csvfile)\n",
    "    writer.writerow([\"year\",\"month\",\"stock_number\",\"raw_data\"])\n",
    "    writer.writerows(error_data_list)"
   ]
  },
  {
   "cell_type": "code",
   "execution_count": null,
   "id": "63b34c0c",
   "metadata": {},
   "outputs": [],
   "source": [
    "#save stock_data_list json file\n",
    "with open(\"/Users/elaine/Desktop/side_project/stock_price/stock_price_2017_2022_errorlist_2.json\", \"w\") as outfile: #save file\n",
    "    json.dump(stock_data_list, outfile)"
   ]
  },
  {
   "cell_type": "code",
   "execution_count": null,
   "id": "b70ee62e",
   "metadata": {},
   "outputs": [],
   "source": []
  },
  {
   "cell_type": "code",
   "execution_count": null,
   "id": "63c0101a",
   "metadata": {},
   "outputs": [],
   "source": [
    "#third step (Merge all the download stock price json file) (TWSE_stock_price_concat.ipynb)"
   ]
  },
  {
   "cell_type": "code",
   "execution_count": null,
   "id": "013ead05",
   "metadata": {},
   "outputs": [],
   "source": [
    "#json file to dataframe (stock price)\n",
    "with open(\"/Users/elaine/Desktop/side_project/stock_price/stock_price_2012_2016.json\",\"r\") as f:  \n",
    "    \n",
    "    json_data = json.loads(f.read())\n",
    "    json_str = '[' + ','.join(json_data) + ']'\n",
    "stock_price_2012_2016 = pd.read_json(json_str)"
   ]
  },
  {
   "cell_type": "code",
   "execution_count": null,
   "id": "bb4d0ca9",
   "metadata": {},
   "outputs": [],
   "source": [
    "#json file to dataframe (stock price)\n",
    "with open(\"/Users/elaine/Desktop/side_project/stock_price/stock_price_2012_2016_errorlist_1.json\",\"r\") as f:  \n",
    "    \n",
    "    json_data = json.loads(f.read())\n",
    "    json_str = '[' + ','.join(json_data) + ']'\n",
    "stock_price_2012_2016_errorlist_1 = pd.read_json(json_str)"
   ]
  },
  {
   "cell_type": "code",
   "execution_count": null,
   "id": "1eab474b",
   "metadata": {},
   "outputs": [],
   "source": [
    "#concat(add) all json file \n",
    "concat_data = pd.concat([stock_price_2012_2016,stock_price_2012_2016_errorlist_1],axis=0)\n",
    "concat_data"
   ]
  },
  {
   "cell_type": "code",
   "execution_count": null,
   "id": "01c3ccdf",
   "metadata": {},
   "outputs": [],
   "source": [
    "#check df NAN\n",
    "concat_data.isnull().sum()  "
   ]
  },
  {
   "cell_type": "code",
   "execution_count": null,
   "id": "100e1674",
   "metadata": {},
   "outputs": [],
   "source": [
    "#explode (transform or modify each member of an array or list into a row)\n",
    "concat_data = concat.explode('data')\n",
    "concat_data = pd.concat([concat_data.drop(['data'], axis=1), concat_data['data'].apply(pd.Series)], axis=1) #axis = 0(直向合併) axis = 1(左右合併)\n",
    "concat_data.drop(concat_data.columns[0:2],axis=1,inplace = True)\n",
    "concat_data"
   ]
  },
  {
   "cell_type": "code",
   "execution_count": null,
   "id": "2f3566a5",
   "metadata": {},
   "outputs": [],
   "source": [
    "concat_data.drop(concat_data.columns[1:4],axis=1,inplace = True)\n",
    "concat_data"
   ]
  },
  {
   "cell_type": "code",
   "execution_count": null,
   "id": "a1d08267",
   "metadata": {},
   "outputs": [],
   "source": [
    "#change column name\n",
    "concat_data.columns = [\"Stock_Code\",\"Date\",\"Trade_Volume\",\"Trade_Value\",\"Opening_Price\",\"Highest_Price\",\"Lowest_Price\",\"Closing_Price\",\"Change\",\"Transaction\"]\n",
    "concat_data"
   ]
  },
  {
   "cell_type": "code",
   "execution_count": null,
   "id": "8b9a8d7b",
   "metadata": {},
   "outputs": [],
   "source": [
    "Company_list=[]\n",
    "for stock_num in concat_data[\"Stock_Code\"]:\n",
    "    if stock_num == None:\n",
    "        continue\n",
    "    if isinstance(stock_num,str):\n",
    "        code = stock_num[7:12]\n",
    "    Company_list.append(code)\n",
    "#print(Company_list)       \n",
    "\n",
    "concat_data[\"Stock_Code\"] = Company_list\n",
    "concat_data"
   ]
  },
  {
   "cell_type": "code",
   "execution_count": null,
   "id": "f1df8d83",
   "metadata": {},
   "outputs": [],
   "source": [
    "#reset index\n",
    "concat_data = concat_data.reset_index(drop=True)"
   ]
  },
  {
   "cell_type": "code",
   "execution_count": null,
   "id": "bd8be5e5",
   "metadata": {},
   "outputs": [],
   "source": [
    "#add column (year/month/day)\n",
    "#split [\"Date\"] column with \"/\"\n",
    "concat_data[['year', 'month', 'day']] = concat_data[\"Date\"].str.split(\"/\",expand=True)\n",
    "concat_data"
   ]
  },
  {
   "cell_type": "code",
   "execution_count": null,
   "id": "e360e252",
   "metadata": {},
   "outputs": [],
   "source": [
    "#add Republic of China era to AD\n",
    "concat_data[\"year\"] = concat_data[\"year\"].astype(int) \n",
    "concat_data[\"year\"] = concat_data[\"year\"] + 1911\n",
    "concat_data[\"year\"] = concat_data[\"year\"].astype(str) \n",
    "#condata column year/month/day in to column Date\n",
    "concat_data[\"Date\"] = concat_data[\"year\"] + \"/\" + concat_data[\"month\"] + \"/\" + concat_data[\"day\"]\n",
    "concat_data"
   ]
  },
  {
   "cell_type": "code",
   "execution_count": null,
   "id": "ce6d0d5f",
   "metadata": {},
   "outputs": [],
   "source": [
    "#sort data with specific column\n",
    "concat_data.sort_values([\"Stock_Code\",\"Date\"],ascending=True)"
   ]
  },
  {
   "cell_type": "code",
   "execution_count": null,
   "id": "39f07667",
   "metadata": {},
   "outputs": [],
   "source": [
    "#save data to csv\n",
    "concat_data.to_csv(f\"/Users/elaine/Desktop/side_project/stock_price/final.csv\",index = False,encoding='utf-8')"
   ]
  }
 ],
 "metadata": {
  "kernelspec": {
   "display_name": "Python 3",
   "language": "python",
   "name": "python3"
  },
  "language_info": {
   "codemirror_mode": {
    "name": "ipython",
    "version": 3
   },
   "file_extension": ".py",
   "mimetype": "text/x-python",
   "name": "python",
   "nbconvert_exporter": "python",
   "pygments_lexer": "ipython3",
   "version": "3.8.8"
  }
 },
 "nbformat": 4,
 "nbformat_minor": 5
}
