{
 "cells": [
  {
   "cell_type": "code",
   "execution_count": null,
   "id": "bba24df5",
   "metadata": {},
   "outputs": [],
   "source": [
    "import pandas as pd\n",
    "from pandas.io.json import json_normalize\n",
    "import requests\n",
    "import json\n",
    "import csv"
   ]
  },
  {
   "cell_type": "code",
   "execution_count": null,
   "id": "c6e63a13",
   "metadata": {},
   "outputs": [],
   "source": []
  },
  {
   "cell_type": "code",
   "execution_count": null,
   "id": "d1670ddd",
   "metadata": {
    "scrolled": true
   },
   "outputs": [],
   "source": [
    "#json file to dataframe (stock price)\n",
    "with open(\"/Users/elaine/Desktop/side_project/stock_price/stock_price_2012_2016.json\",\"r\") as f:  \n",
    "    \n",
    "    json_data = json.loads(f.read())\n",
    "    json_str = '[' + ','.join(json_data) + ']'\n",
    "stock_price_2012_2016 = pd.read_json(json_str)"
   ]
  },
  {
   "cell_type": "code",
   "execution_count": null,
   "id": "5947d944",
   "metadata": {
    "scrolled": true
   },
   "outputs": [],
   "source": [
    "#json file to dataframe (stock price)\n",
    "with open(\"/Users/elaine/Desktop/side_project/stock_price/stock_price_2012_2016_errorlist_1.json\",\"r\") as f:  \n",
    "    \n",
    "    json_data = json.loads(f.read())\n",
    "    json_str = '[' + ','.join(json_data) + ']'\n",
    "stock_price_2012_2016_errorlist_1 = pd.read_json(json_str)"
   ]
  },
  {
   "cell_type": "code",
   "execution_count": null,
   "id": "e975965b",
   "metadata": {},
   "outputs": [],
   "source": [
    "#json file to dataframe (stock price)\n",
    "with open(\"/Users/elaine/Desktop/side_project/stock_price/stock_price_2012_2016_errorlist_2.json\",\"r\") as f:  \n",
    "    \n",
    "    json_data = json.loads(f.read())\n",
    "    json_str = '[' + ','.join(json_data) + ']'\n",
    "stock_price_2012_2016_errorlist_2 = pd.read_json(json_str)"
   ]
  },
  {
   "cell_type": "code",
   "execution_count": null,
   "id": "5063ed98",
   "metadata": {
    "scrolled": true
   },
   "outputs": [],
   "source": [
    "#json file to dataframe (stock price)\n",
    "with open(\"/Users/elaine/Desktop/side_project/stock_price/stock_price_2017_2022.json\",\"r\") as f:  \n",
    "    \n",
    "    json_data = json.loads(f.read())\n",
    "    json_str = '[' + ','.join(json_data) + ']'\n",
    "stock_price_2017_2022 = pd.read_json(json_str)"
   ]
  },
  {
   "cell_type": "code",
   "execution_count": null,
   "id": "d976492f",
   "metadata": {
    "scrolled": true
   },
   "outputs": [],
   "source": [
    "#json file to dataframe (stock price)\n",
    "with open(\"/Users/elaine/Desktop/side_project/stock_price/stock_price_2017_2022_errorlist_1.json\",\"r\") as f:  \n",
    "    \n",
    "    json_data = json.loads(f.read())\n",
    "    json_str = '[' + ','.join(json_data) + ']'\n",
    "stock_price_2017_2022_errorlist_1 = pd.read_json(json_str)"
   ]
  },
  {
   "cell_type": "code",
   "execution_count": null,
   "id": "877cbbde",
   "metadata": {},
   "outputs": [],
   "source": [
    "#concat(add) all json file \n",
    "concat_data = pd.concat([stock_price_2012_2016,stock_price_2012_2016_errorlist_1,stock_price_2012_2016_errorlist_2,stock_price_2017_2022,stock_price_2017_2022_errorlist_1],axis=0)\n",
    "concat_data"
   ]
  },
  {
   "cell_type": "code",
   "execution_count": null,
   "id": "c572f353",
   "metadata": {},
   "outputs": [],
   "source": [
    "#check df NAN\n",
    "concat_data.isnull().sum()  "
   ]
  },
  {
   "cell_type": "code",
   "execution_count": null,
   "id": "176613d0",
   "metadata": {},
   "outputs": [],
   "source": [
    "#explode (transform or modify each member of an array or list into a row)\n",
    "concat_data = concat_data.explode('data')\n",
    "concat_data = pd.concat([concat_data.drop(['data'], axis=1), concat_data['data'].apply(pd.Series)], axis=1) #axis = 0(直向合併) axis = 1(左右合併)\n",
    "concat_data.drop(concat_data.columns[0:2],axis=1,inplace = True)\n",
    "concat_data"
   ]
  },
  {
   "cell_type": "code",
   "execution_count": null,
   "id": "2d7d440b",
   "metadata": {},
   "outputs": [],
   "source": [
    "concat_data.drop(concat_data.columns[1:4],axis=1,inplace = True)\n",
    "concat_data"
   ]
  },
  {
   "cell_type": "code",
   "execution_count": null,
   "id": "106b34b8",
   "metadata": {},
   "outputs": [],
   "source": [
    "#change column name\n",
    "concat_data.columns = [\"Stock_Code\",\"Date\",\"Trade_Volume\",\"Trade_Value\",\"Opening_Price\",\"Highest_Price\",\"Lowest_Price\",\"Closing_Price\",\"Change\",\"Transaction\"]\n",
    "concat_data"
   ]
  },
  {
   "cell_type": "code",
   "execution_count": null,
   "id": "6b155ff8",
   "metadata": {},
   "outputs": [],
   "source": [
    "Company_list=[]\n",
    "for stock_num in concat_data[\"Stock_Code\"]:\n",
    "    if stock_num == None:\n",
    "        continue\n",
    "    if isinstance(stock_num,str):\n",
    "        code = stock_num[7:12]\n",
    "    Company_list.append(code)\n",
    "#print(Company_list)       \n",
    "\n",
    "concat_data[\"Stock_Code\"] = Company_list\n",
    "concat_data"
   ]
  },
  {
   "cell_type": "code",
   "execution_count": null,
   "id": "154feddd",
   "metadata": {},
   "outputs": [],
   "source": [
    "#reset index\n",
    "concat_data = concat_data.reset_index(drop=True)"
   ]
  },
  {
   "cell_type": "code",
   "execution_count": null,
   "id": "a9aa68b1",
   "metadata": {},
   "outputs": [],
   "source": [
    "#add column (year/month/day)\n",
    "#split [\"Date\"] column with \"/\"\n",
    "concat_data[['year', 'month', 'day']] = concat_data[\"Date\"].str.split(\"/\",expand=True)\n",
    "concat_data"
   ]
  },
  {
   "cell_type": "code",
   "execution_count": null,
   "id": "f3997266",
   "metadata": {},
   "outputs": [],
   "source": [
    "concat_data[\"year\"] = concat_data[\"year\"].astype(int) \n",
    "concat_data[\"year\"] = concat_data[\"year\"] + 1911\n",
    "concat_data[\"year\"] = concat_data[\"year\"].astype(str) \n",
    "concat_data[\"Date\"] = concat_data[\"year\"] + \"/\" + concat_data[\"month\"] + \"/\" + concat_data[\"day\"]\n",
    "concat_data"
   ]
  },
  {
   "cell_type": "code",
   "execution_count": null,
   "id": "60509397",
   "metadata": {},
   "outputs": [],
   "source": [
    "# sort data with specific column\n",
    "concat_data.sort_values([\"Stock_Code\",\"Date\"],ascending=True)"
   ]
  },
  {
   "cell_type": "code",
   "execution_count": null,
   "id": "369b984a",
   "metadata": {},
   "outputs": [],
   "source": [
    "#save data to csv\n",
    "concat_data.to_csv(f\"/Users/elaine/Desktop/side_project/stock_price/final.csv\",index = False,encoding='utf-8')"
   ]
  },
  {
   "cell_type": "code",
   "execution_count": null,
   "id": "e541121b",
   "metadata": {},
   "outputs": [],
   "source": []
  }
 ],
 "metadata": {
  "kernelspec": {
   "display_name": "Python 3",
   "language": "python",
   "name": "python3"
  },
  "language_info": {
   "codemirror_mode": {
    "name": "ipython",
    "version": 3
   },
   "file_extension": ".py",
   "mimetype": "text/x-python",
   "name": "python",
   "nbconvert_exporter": "python",
   "pygments_lexer": "ipython3",
   "version": "3.8.8"
  }
 },
 "nbformat": 4,
 "nbformat_minor": 5
}
