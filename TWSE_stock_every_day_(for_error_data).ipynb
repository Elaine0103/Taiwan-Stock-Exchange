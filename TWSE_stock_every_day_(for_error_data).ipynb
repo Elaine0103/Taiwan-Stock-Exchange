{
 "cells": [
  {
   "cell_type": "code",
   "execution_count": null,
   "id": "12076cbf",
   "metadata": {},
   "outputs": [],
   "source": [
    "import pandas as pd\n",
    "from pandas.io.json import json_normalize\n",
    "import requests\n",
    "import json\n",
    "from urllib3.exceptions import InsecureRequestWarning\n",
    "from urllib3 import disable_warnings\n",
    "from fake_useragent import UserAgent\n",
    "import time\n",
    "import csv"
   ]
  },
  {
   "cell_type": "code",
   "execution_count": null,
   "id": "a36a304b",
   "metadata": {
    "scrolled": true
   },
   "outputs": [],
   "source": [
    "stock_company = pd.read_csv(\"/Users/elaine/Desktop/side_project/stock_price/error_data_list_2017_2022_errorlis_1.csv\", converters = {\"month\":str},encoding='utf-8')\n",
    "stock_company"
   ]
  },
  {
   "cell_type": "code",
   "execution_count": null,
   "id": "ab6c5d2c",
   "metadata": {},
   "outputs": [],
   "source": [
    "year =stock_company[\"year\"].astype(str)\n",
    "year = year.to_list()\n",
    "Date = year + stock_company[\"month\"]\n",
    "Date = Date.to_list()\n",
    "stock_number = stock_company[\"stock_number\"].to_list()"
   ]
  },
  {
   "cell_type": "code",
   "execution_count": null,
   "id": "e61bb8a8",
   "metadata": {
    "scrolled": true
   },
   "outputs": [],
   "source": [
    "data = []\n",
    "data.extend(list(D) for D in zip(Date,stock_number))"
   ]
  },
  {
   "cell_type": "code",
   "execution_count": null,
   "id": "8c7dd729",
   "metadata": {},
   "outputs": [],
   "source": [
    "stock_data_list = []\n",
    "error_data_list = []\n",
    "for i in data:\n",
    "    url = (f\"https://www.twse.com.tw/rwd/zh/afterTrading/STOCK_DAY?date={i[0]}&stockNo={i[1]}&response=json&_=1679296642947\")\n",
    "    #print(url)\n",
    "    ua = UserAgent()\n",
    "    user_agent = ua.random\n",
    "    headers = {'user-agent': user_agent}\n",
    "    data = requests.get(url, headers=headers).text\n",
    "    if data and \"\\\"total\\\":0\" in data:\n",
    "        error = [i[0][:4],i[0][4:8], i[1],data]\n",
    "        error_data_list.append(error)\n",
    "    else:\n",
    "        stock_data_list.append(data)\n",
    "               \n",
    "time.sleep(5)\n",
    "    \n",
    "    "
   ]
  },
  {
   "cell_type": "code",
   "execution_count": null,
   "id": "91190b84",
   "metadata": {
    "scrolled": true
   },
   "outputs": [],
   "source": [
    "stock_data_list"
   ]
  },
  {
   "cell_type": "code",
   "execution_count": null,
   "id": "78f2d8c8",
   "metadata": {
    "scrolled": true
   },
   "outputs": [],
   "source": [
    "error_data_list"
   ]
  },
  {
   "cell_type": "code",
   "execution_count": null,
   "id": "4aff1522",
   "metadata": {},
   "outputs": [],
   "source": [
    "#save error_data_list csv file\n",
    "with open('/Users/elaine/Desktop/side_project/stock_price/error_data_list_2017_2022_errorlis_2.csv', 'w', newline='') as csvfile: \n",
    "    writer = csv.writer(csvfile)\n",
    "    writer.writerow([\"year\",\"month\",\"stock_number\",\"raw_data\"])\n",
    "    writer.writerows(error_data_list)"
   ]
  },
  {
   "cell_type": "code",
   "execution_count": null,
   "id": "63ed8e5f",
   "metadata": {},
   "outputs": [],
   "source": [
    "#save stock_data_list json file\n",
    "with open(\"/Users/elaine/Desktop/side_project/stock_price/stock_price_2017_2022_errorlist_2.json\", \"w\") as outfile: #save file\n",
    "    json.dump(stock_data_list, outfile)"
   ]
  },
  {
   "cell_type": "code",
   "execution_count": null,
   "id": "324659b9",
   "metadata": {},
   "outputs": [],
   "source": []
  },
  {
   "cell_type": "code",
   "execution_count": null,
   "id": "c02a7200",
   "metadata": {},
   "outputs": [],
   "source": []
  }
 ],
 "metadata": {
  "kernelspec": {
   "display_name": "Python 3",
   "language": "python",
   "name": "python3"
  },
  "language_info": {
   "codemirror_mode": {
    "name": "ipython",
    "version": 3
   },
   "file_extension": ".py",
   "mimetype": "text/x-python",
   "name": "python",
   "nbconvert_exporter": "python",
   "pygments_lexer": "ipython3",
   "version": "3.8.8"
  }
 },
 "nbformat": 4,
 "nbformat_minor": 5
}
